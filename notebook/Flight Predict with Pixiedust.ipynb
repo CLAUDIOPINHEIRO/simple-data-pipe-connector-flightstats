{
 "cells": [
  {
   "cell_type": "markdown",
   "metadata": {},
   "source": [
    "# Flight Delay Predictions with Weather Company Data, FlightStats, and Apache Spark MLlib  \n",
    "\n",
    "<img style=\"max-width: 800px; padding: 25px 0px;\" src=\"https://ibm-cds-labs.github.io/simple-data-pipe-connector-flightstats/flight_predictor_architecture.png\"/>\n",
    "  \n",
    "The following notebook features a Spark Machine Learning application that predicts whether a flight will be delayed based on weather data.  \n",
    "\n",
    "The application workflow is as follow:  \n",
    "1. Configure the application parameters\n",
    "2. Load the training and test data\n",
    "3. Build the classification models\n",
    "4. Evaluate the models and iterate\n",
    "5. Launch a Pixiedust embedded application to run the models  \n",
    "\n",
    "## Pre-requisite  \n",
    "\n",
    "This notebook is a follow up to [Predict Flight Delays with Apache Spark MLlib, FlightStats, and Weather Data](https://developer.ibm.com/clouddataservices/2016/08/04/predict-flight-delays-with-apache-spark-mllib-flightstats-and-weather-data/). Please follow the instructions in the article and:\n",
    "\n",
    "* Set up a FlightStats account  \n",
    "* Provision the Weather Company Data service  \n",
    "* Obtain or build the training and test data sets  \n",
    "\n",
    "## Learn more  \n",
    "\n",
    "* [Weather Company Data](https://console.ng.bluemix.net/docs/services/Weather/index.html)  \n",
    "* [FlightStats](https://developer.flightstats.com/)  \n",
    "* [Apache Spark MLlib](https://spark.apache.org/mllib/)  \n",
    "* [PixieDust](https://github.com/ibm-cds-labs/pixiedust)  \n",
    "* [pixiedust_flightpredict](https://github.com/ibm-cds-labs/simple-data-pipe-connector-flightstats/tree/master/pixiedust_flightpredict)    "
   ]
  },
  {
   "cell_type": "markdown",
   "metadata": {},
   "source": [
    "# Install latest pixiedust  and pixiedust-flightpredict plugin\n",
    "\n",
    "Make sure you are running the latest `pixiedust` and `pixiedust-flightpredict` versions. After upgrading restart the kernel before continuing to the next cells."
   ]
  },
  {
   "cell_type": "code",
   "execution_count": null,
   "metadata": {
    "collapsed": false
   },
   "outputs": [],
   "source": [
    "!pip install --upgrade --user pixiedust"
   ]
  },
  {
   "cell_type": "code",
   "execution_count": null,
   "metadata": {
    "collapsed": false
   },
   "outputs": [],
   "source": [
    "!pip install --upgrade --user pixiedust-flightpredict"
   ]
  },
  {
   "cell_type": "markdown",
   "metadata": {},
   "source": [
    "<h3>If PixieDust was just installed or upgraded, <span style=\"color: red\">restart the kernel</span> before continuing.</h3>"
   ]
  },
  {
   "cell_type": "markdown",
   "metadata": {},
   "source": [
    "# Import required python package and set the Cloudant credentials  \n",
    "\n",
    "Have available your credentials for Cloudant, Weather Company Data, and FlightStats, as well as the training and test data info from [Predict Flight Delays with Apache Spark MLlib, FlightStats, and Weather Data](https://developer.ibm.com/clouddataservices/2016/08/04/predict-flight-delays-with-apache-spark-mllib-flightstats-and-weather-data/)  \n",
    "\n",
    "Run through the Configuration Dashboard to load the training and test data. Ensure all <i class=\"fa fa-2x fa-times\" style=\"font-size:medium\"></i> statuses are completed. After applying changes, re-run the below cell to confirm the updated configuration statuses."
   ]
  },
  {
   "cell_type": "code",
   "execution_count": null,
   "metadata": {
    "collapsed": false,
    "pixiedust": {
     "displayParams": {
      "handlerId": "fp_configure_training"
     }
    }
   },
   "outputs": [],
   "source": [
    "import pixiedust_flightpredict\n",
    "pixiedust_flightpredict.configure()"
   ]
  },
  {
   "cell_type": "markdown",
   "metadata": {},
   "source": [
    "# Train multiple classification models  \n",
    "\n",
    "The below cells train four models: Logistic Regression, Naive Bayes, Decision Tree, and Random Forest.\n",
    "Feel free to update these models or build your own models."
   ]
  },
  {
   "cell_type": "code",
   "execution_count": null,
   "metadata": {
    "collapsed": false,
    "scrolled": false
   },
   "outputs": [],
   "source": [
    "from pyspark.mllib.regression import LabeledPoint\n",
    "from pyspark.mllib.linalg import Vectors\n",
    "from numpy import array\n",
    "import numpy as np\n",
    "import math\n",
    "from datetime import datetime\n",
    "from dateutil import parser\n",
    "from pyspark.mllib.classification import LogisticRegressionWithLBFGS\n",
    "logRegModel = LogisticRegressionWithLBFGS.train(labeledTrainingData.map(lambda lp: LabeledPoint(lp.label,\\\n",
    "      np.fromiter(map(lambda x: 0.0 if np.isnan(x) else x,lp.features.toArray()),dtype=np.double )))\\\n",
    "      , iterations=1000, validateData=False, intercept=False)\n",
    "print(logRegModel)"
   ]
  },
  {
   "cell_type": "code",
   "execution_count": null,
   "metadata": {
    "collapsed": false
   },
   "outputs": [],
   "source": [
    "from pyspark.mllib.classification import NaiveBayes\n",
    "#NaiveBayes requires non negative features, set them to 0 for now\n",
    "modelNaiveBayes = NaiveBayes.train(labeledTrainingData.map(lambda lp: LabeledPoint(lp.label, \\\n",
    "                    np.fromiter(map(lambda x: x if x>0.0 else 0.0,lp.features.toArray()),dtype=np.int)\\\n",
    "               ))\\\n",
    "          )\n",
    "\n",
    "print(modelNaiveBayes)"
   ]
  },
  {
   "cell_type": "code",
   "execution_count": null,
   "metadata": {
    "collapsed": false,
    "scrolled": false
   },
   "outputs": [],
   "source": [
    "from pyspark.mllib.tree import DecisionTree\n",
    "modelDecisionTree = DecisionTree.trainClassifier(labeledTrainingData.map(lambda lp: LabeledPoint(lp.label,\\\n",
    "      np.fromiter(map(lambda x: 0.0 if np.isnan(x) else x,lp.features.toArray()),dtype=np.double )))\\\n",
    "      , numClasses=training.getNumClasses(), categoricalFeaturesInfo={})\n",
    "print(modelDecisionTree)"
   ]
  },
  {
   "cell_type": "code",
   "execution_count": null,
   "metadata": {
    "collapsed": false
   },
   "outputs": [],
   "source": [
    "from pyspark.mllib.tree import RandomForest\n",
    "modelRandomForest = RandomForest.trainClassifier(labeledTrainingData.map(lambda lp: LabeledPoint(lp.label,\\\n",
    "      np.fromiter(map(lambda x: 0.0 if np.isnan(x) else x,lp.features.toArray()),dtype=np.double )))\\\n",
    "      , numClasses=training.getNumClasses(), categoricalFeaturesInfo={},numTrees=100)\n",
    "print(modelRandomForest)"
   ]
  },
  {
   "cell_type": "markdown",
   "metadata": {},
   "source": [
    "# Evaluate the models  \n",
    "\n",
    "`pixiedust_flightpredict` provides a plugin to the Pixiedust `display` api and adds a menu (look for the plane icon) that computes the accuracy metrics for the models, including the confusion table."
   ]
  },
  {
   "cell_type": "code",
   "execution_count": null,
   "metadata": {
    "collapsed": false,
    "pixiedust": {
     "displayParams": {
      "handlerId": "fp_run_metrics"
     }
    }
   },
   "outputs": [],
   "source": [
    "display(testData)"
   ]
  },
  {
   "cell_type": "markdown",
   "metadata": {},
   "source": [
    "# Run the predictive model application  \n",
    "\n",
    "The below cell runs the embedded Pixiedust application. From within the application, you enter your flight information and the models will run and provide the predictions for a delayed flight."
   ]
  },
  {
   "cell_type": "code",
   "execution_count": null,
   "metadata": {
    "collapsed": false,
    "pixiedust": {
     "displayParams": {
      "handlerId": "flightpredict"
     }
    }
   },
   "outputs": [],
   "source": [
    "import pixiedust_flightpredict\n",
    "from pixiedust_flightpredict import *\n",
    "pixiedust_flightpredict.flightPredict()"
   ]
  },
  {
   "cell_type": "markdown",
   "metadata": {},
   "source": [
    "# Get aggregated results for all the flights that have been predicted.\n",
    "The following cell shows a map with all the airports and flights. Each edge represent an aggregated view of all the flights between 2 airports. Click on it will display a group list of flights that includes how many users are on the same flight"
   ]
  },
  {
   "cell_type": "code",
   "execution_count": null,
   "metadata": {
    "collapsed": false,
    "pixiedust": {
     "displayParams": {
      "handlerId": "fp_map_results"
     }
    }
   },
   "outputs": [],
   "source": [
    "import pixiedust_flightpredict\n",
    "pixiedust_flightpredict.displayMapResults()"
   ]
  }
 ],
 "metadata": {
  "anaconda-cloud": {},
  "kernelspec": {
   "display_name": "pySpark (Spark 1.6.0) Python 2",
   "language": "python",
   "name": "pyspark1.6python2"
  },
  "language_info": {
   "codemirror_mode": {
    "name": "ipython",
    "version": 2
   },
   "file_extension": ".py",
   "mimetype": "text/x-python",
   "name": "python",
   "nbconvert_exporter": "python",
   "pygments_lexer": "ipython2",
   "version": "2.7.11"
  }
 },
 "nbformat": 4,
 "nbformat_minor": 0
}
